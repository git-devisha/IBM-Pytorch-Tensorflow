{
 "cells": [
  {
   "cell_type": "code",
   "execution_count": 1,
   "metadata": {},
   "outputs": [],
   "source": [
    "#BACK PROPAGATION\n",
    "import numpy as np\n",
    "import matplotlib.pyplot as plt"
   ]
  },
  {
   "cell_type": "code",
   "execution_count": 2,
   "metadata": {},
   "outputs": [],
   "source": [
    "# Defining inputs and expected output (XOR truth table)\n",
    "X = np.array([[0, 0], [0, 1], [1, 0], [1, 1]]).T  # 2x4 matrix, each column is a training example\n",
    "d = np.array([0, 1, 1, 0])  # Expected output for XOR"
   ]
  },
  {
   "cell_type": "code",
   "execution_count": 9,
   "metadata": {},
   "outputs": [],
   "source": [
    "# Network parameters\n",
    "inputSize = 2     # Number of input neurons (x1, x2)\n",
    "hiddenSize = 2    # Number of hidden neurons\n",
    "outputSize = 1    # Number of output neurons\n",
    "lr = 0.01          # Learning rate\n",
    "epochs = 10000   # Number of training epochs"
   ]
  },
  {
   "cell_type": "code",
   "execution_count": 10,
   "metadata": {},
   "outputs": [],
   "source": [
    "# Initialize weights and biases randomly within the range [-1, 1]\n",
    "w1 = np.random.rand(hiddenSize, inputSize) * 2 - 1  # Weights from input to hidden layer\n",
    "b1 = np.random.rand(hiddenSize, 1) * 2 - 1         # Bias for hidden layer\n",
    "w2 = np.random.rand(outputSize, hiddenSize) * 2 - 1  # Weights from hidden to output layer\n",
    "b2 = np.random.rand(outputSize, 1) * 2 - 1         # Bias for output layer"
   ]
  },
  {
   "cell_type": "code",
   "execution_count": 11,
   "metadata": {},
   "outputs": [
    {
     "name": "stdout",
     "output_type": "stream",
     "text": [
      "Epoch: 9999, Average error: 0.50014\n"
     ]
    }
   ],
   "source": [
    "# Training the network using backpropagation\n",
    "error_list = []\n",
    "for epoch in range(epochs):\n",
    "    # Forward pass\n",
    "    z1 = np.dot(w1, X) + b1  # Weighted sum for hidden layer\n",
    "    a1 = 1 / (1 + np.exp(-z1))  # Sigmoid activation for hidden layer\n",
    "\n",
    "    z2 = np.dot(w2, a1) + b2  # Weighted sum for output layer\n",
    "    a2 = 1 / (1 + np.exp(-z2))  # Sigmoid activation for output layer\n",
    "\n",
    "    # Error calculation and backpropagation\n",
    "    error = d - a2  # Difference between expected and actual output\n",
    "    da2 = error * (a2 * (1 - a2))  # Derivative for output layer\n",
    "    dz2 = da2  # Gradient for output layer\n",
    "\n",
    "    # Propagate error to hidden layer\n",
    "    da1 = np.dot(w2.T, dz2)  # Gradient for hidden layer\n",
    "    dz1 = da1 * (a1 * (1 - a1))  # Derivative for hidden layer\n",
    "\n",
    "    # Update weights and biases\n",
    "    w2 += lr * np.dot(dz2, a1.T)  # Update weights from hidden to output layer\n",
    "    b2 += lr * np.sum(dz2, axis=1, keepdims=True)  # Update bias for output layer\n",
    "\n",
    "    w1 += lr * np.dot(dz1, X.T)  # Update weights from input to hidden layer\n",
    "    b1 += lr * np.sum(dz1, axis=1, keepdims=True)  # Update bias for hidden layer\n",
    "    if (epoch+1)%10000 == 0:\n",
    "        print(\"Epoch: %d, Average error: %0.05f\"%(epoch, np.average(abs(error))))\n",
    "        error_list.append(np.average(abs(error)))"
   ]
  },
  {
   "cell_type": "code",
   "execution_count": 12,
   "metadata": {},
   "outputs": [
    {
     "name": "stdout",
     "output_type": "stream",
     "text": [
      "Final output after training: [[0.50719519 0.49666602 0.50352654 0.49356288]]\n",
      "Ground truth [0 1 1 0]\n",
      "Error after training: [[-0.50719605  0.5033339   0.49647346 -0.49356224]]\n",
      "Average error: 0.50014\n"
     ]
    }
   ],
   "source": [
    "# Testing the trained network\n",
    "z1 = np.dot(w1, X) + b1  # Weighted sum for hidden layer\n",
    "a1 = 1 / (1 + np.exp(-z1))  # Sigmoid activation for hidden layer\n",
    "\n",
    "z2 = np.dot(w2, a1) + b2  # Weighted sum for output layer\n",
    "a2 = 1 / (1 + np.exp(-z2))  # Sigmoid activation for output layer\n",
    "\n",
    "# Print results\n",
    "print('Final output after training:', a2)\n",
    "print('Ground truth', d)\n",
    "print('Error after training:', error)\n",
    "print('Average error: %0.05f'%np.average(abs(error)))\n"
   ]
  },
  {
   "cell_type": "code",
   "execution_count": 13,
   "metadata": {},
   "outputs": [
    {
     "data": {
      "image/png": "[encoded data removed]",
      "text/plain": [
       "<Figure size 640x480 with 1 Axes>"
      ]
     },
     "metadata": {},
     "output_type": "display_data"
    }
   ],
   "source": [
    "# Plot error\n",
    "plt.plot(error_list)\n",
    "plt.title('Error')\n",
    "plt.xlabel('Epochs')\n",
    "plt.ylabel('Error')\n",
    "plt.show()"
   ]
  },
  {
   "cell_type": "code",
   "execution_count": null,
   "metadata": {},
   "outputs": [],
   "source": []
  }
 ],
 "metadata": {
  "kernelspec": {
   "display_name": "Python 3",
   "language": "python",
   "name": "python3"
  },
  "language_info": {
   "codemirror_mode": {
    "name": "ipython",
    "version": 3
   },
   "file_extension": ".py",
   "mimetype": "text/x-python",
   "name": "python",
   "nbconvert_exporter": "python",
   "pygments_lexer": "ipython3",
   "version": "3.12.6"
  }
 },
 "nbformat": 4,
 "nbformat_minor": 2
}
